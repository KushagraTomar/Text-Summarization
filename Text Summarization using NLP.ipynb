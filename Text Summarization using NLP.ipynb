{
 "cells": [
  {
   "cell_type": "code",
   "execution_count": 1,
   "id": "10e087a8",
   "metadata": {},
   "outputs": [],
   "source": [
    "text = \"\"\"Dogs are omnivores, which means they consume both meat and veggies. Because of their wide palette and ability to consume large amounts of food in one sitting, they have a gluttonous reputation (owing to an incredibly elastic stomach). While most dogs are not afraid to consume almost any meal (or non-food!) that comes their way, others are more sensitive. Your dog's stomach might be upset for a variety of causes, ranging from indigestion to cancer. While all dogs vomit from time to time, it's time to take your dog to the vet for a check-up if they vomit or have diarrhoea on a regular or continuous basis. Chronic or recurring vomiting or diarrhoea suggests that your dog's health is failing and should be addressed. Your veterinarian will be able to examine your dog and, if necessary, conduct tests to provide an accurate diagnosis and treatment.The occurrence of flatulence or diarrhoea in some dogs, just like it happens in people if something upsets their stomach. This is referred to as a 'sensitive stomach'. We're talking about a modest digestive disturbance here, which ranges from a rumbling gut and unpleasant odours from the back end to vomiting and diarrhoea.Some dogs have sensitive stomachs from birth, while others develop them later in life. In any case, it is something that must be handled if your dog is to prosper. Nausea, vomiting, excessive gas, and diarrhoea with or without blood in the stool are symptoms of a dog’s sensitive stomach. Supplemental therapy will be used in response to the symptoms they have experienced.The symptoms should go away if you change your pet's diet to something easier for them to digest. It is also not normal if your dog has been vomiting or diarrhoea for a long time. To rule out illnesses like allergies and gastrointestinal disorders or sickness, you should take them to the veterinarian as soon as possible. You can even discuss changing to food for dogs with sensitive stomachs with them.Your dog's sensitive stomach could be hereditary, meaning it was there at birth. When your puppy is young, you may notice that they have trouble digesting food, have gas, and have irregular faeces.It's simple to figure out if your dog's food is the problem, though it may take some willpower on your part. Start by removing any unnecessary foods from his diet. Table scraps, leftovers, bones, treats, and anything else your dog might enjoy nibbling on throughout the day are all included. Check to see whether your dog is slipping into the trash, garbage bin, waste thrown on roads or any other forbidden treasures that can cause your dog to get sick. This will help you better diagnose your dog's stomach problem.\n",
    "\"\"\""
   ]
  },
  {
   "cell_type": "code",
   "execution_count": 2,
   "id": "904bcaf7",
   "metadata": {},
   "outputs": [],
   "source": [
    "## getting started with SpaCy\n",
    "# !pip install -U spacy\n",
    "# !python -m spacy download en_core_web_sm"
   ]
  },
  {
   "cell_type": "code",
   "execution_count": 3,
   "id": "9fe00e8b",
   "metadata": {},
   "outputs": [],
   "source": [
    "import spacy\n",
    "from spacy.lang.en.stop_words import STOP_WORDS\n",
    "from string import punctuation"
   ]
  },
  {
   "cell_type": "code",
   "execution_count": 4,
   "id": "13a2aa65",
   "metadata": {},
   "outputs": [
    {
     "data": {
      "text/plain": [
       "['nowhere',\n",
       " 'most',\n",
       " 'none',\n",
       " 'if',\n",
       " 'using',\n",
       " '’d',\n",
       " 'in',\n",
       " 'hereby',\n",
       " 'across',\n",
       " 'i',\n",
       " 'is',\n",
       " 'a',\n",
       " 'put',\n",
       " 'it',\n",
       " 'whereas',\n",
       " 'seeming',\n",
       " 'whereupon',\n",
       " 'some',\n",
       " 'were',\n",
       " '‘re',\n",
       " 'really',\n",
       " '’m',\n",
       " 'beyond',\n",
       " 'yourself',\n",
       " 'still',\n",
       " 'perhaps',\n",
       " 'yet',\n",
       " 'sometimes',\n",
       " 'seemed',\n",
       " 'herself',\n",
       " 'get',\n",
       " 'would',\n",
       " 'now',\n",
       " 'very',\n",
       " 'twelve',\n",
       " 'he',\n",
       " 'bottom',\n",
       " 'more',\n",
       " 'someone',\n",
       " 'thru',\n",
       " 'forty',\n",
       " 'any',\n",
       " 'his',\n",
       " '’ve',\n",
       " 'afterwards',\n",
       " 'hence',\n",
       " 'least',\n",
       " 'an',\n",
       " 'at',\n",
       " 'another',\n",
       " 'alone',\n",
       " 'fifty',\n",
       " \"'s\",\n",
       " 'until',\n",
       " 'whoever',\n",
       " 'as',\n",
       " 'whose',\n",
       " 'else',\n",
       " 'further',\n",
       " 'namely',\n",
       " 'them',\n",
       " 'per',\n",
       " 'beside',\n",
       " 'from',\n",
       " 'hers',\n",
       " 'for',\n",
       " 'also',\n",
       " 'seems',\n",
       " 'could',\n",
       " 'upon',\n",
       " 'give',\n",
       " 'during',\n",
       " 'n’t',\n",
       " 'rather',\n",
       " '’ll',\n",
       " '‘ve',\n",
       " 'same',\n",
       " 'first',\n",
       " 'do',\n",
       " 'just',\n",
       " 'whole',\n",
       " 'show',\n",
       " 'into',\n",
       " 'due',\n",
       " 'please',\n",
       " 'whence',\n",
       " 're',\n",
       " 'down',\n",
       " 'doing',\n",
       " 'throughout',\n",
       " 'not',\n",
       " 'than',\n",
       " 'before',\n",
       " 'but',\n",
       " 'meanwhile',\n",
       " 'two',\n",
       " 'even',\n",
       " 'have',\n",
       " 'nobody',\n",
       " 'their',\n",
       " 'much',\n",
       " 'why',\n",
       " 'former',\n",
       " 'anywhere',\n",
       " 'are',\n",
       " 'go',\n",
       " 'against',\n",
       " 'nor',\n",
       " 'sometime',\n",
       " 'seem',\n",
       " 'those',\n",
       " 'did',\n",
       " 'except',\n",
       " 'again',\n",
       " 'on',\n",
       " 'thereby',\n",
       " 'therefore',\n",
       " 'under',\n",
       " 'since',\n",
       " 'other',\n",
       " 'somewhere',\n",
       " 'whither',\n",
       " 'wherever',\n",
       " 'onto',\n",
       " 'enough',\n",
       " 'unless',\n",
       " 'each',\n",
       " 'anything',\n",
       " 'nine',\n",
       " 'back',\n",
       " 'top',\n",
       " 'never',\n",
       " 'no',\n",
       " 'what',\n",
       " 'that',\n",
       " 'keep',\n",
       " 'himself',\n",
       " 'here',\n",
       " 'me',\n",
       " 'ten',\n",
       " 'via',\n",
       " 'already',\n",
       " 'beforehand',\n",
       " 'had',\n",
       " 'which',\n",
       " 'off',\n",
       " 'along',\n",
       " 'who',\n",
       " 'used',\n",
       " 'ours',\n",
       " \"'ve\",\n",
       " '‘d',\n",
       " 'whereby',\n",
       " 'they',\n",
       " 'does',\n",
       " '‘s',\n",
       " 'over',\n",
       " 'she',\n",
       " 'may',\n",
       " 'front',\n",
       " 'besides',\n",
       " 'hereafter',\n",
       " 'can',\n",
       " 'thereupon',\n",
       " 'twenty',\n",
       " 'neither',\n",
       " 'only',\n",
       " 'thus',\n",
       " 'eleven',\n",
       " 'because',\n",
       " 'yours',\n",
       " 'move',\n",
       " 'him',\n",
       " 'our',\n",
       " 'next',\n",
       " 'somehow',\n",
       " 'together',\n",
       " 'out',\n",
       " 'every',\n",
       " 'her',\n",
       " 'everything',\n",
       " 'hereupon',\n",
       " 'take',\n",
       " 'whenever',\n",
       " 'with',\n",
       " 'anyhow',\n",
       " 'third',\n",
       " 'through',\n",
       " 'either',\n",
       " 'various',\n",
       " 'last',\n",
       " 'we',\n",
       " 'behind',\n",
       " 'empty',\n",
       " 'itself',\n",
       " 'mine',\n",
       " 'become',\n",
       " 'us',\n",
       " 'often',\n",
       " 'must',\n",
       " 'these',\n",
       " 'without',\n",
       " 'amongst',\n",
       " 'has',\n",
       " 'whom',\n",
       " 'all',\n",
       " 'amount',\n",
       " 'themselves',\n",
       " 'otherwise',\n",
       " 'elsewhere',\n",
       " 'myself',\n",
       " 'or',\n",
       " 'done',\n",
       " 'both',\n",
       " 'hundred',\n",
       " 'between',\n",
       " 'should',\n",
       " 'less',\n",
       " 'five',\n",
       " 'above',\n",
       " 'its',\n",
       " 'mostly',\n",
       " 'ourselves',\n",
       " 'being',\n",
       " 'then',\n",
       " 'although',\n",
       " 'once',\n",
       " 'towards',\n",
       " 'was',\n",
       " 'wherein',\n",
       " 'the',\n",
       " 'well',\n",
       " 'below',\n",
       " 'your',\n",
       " 'though',\n",
       " 'thereafter',\n",
       " 'n‘t',\n",
       " 'others',\n",
       " 'one',\n",
       " 'say',\n",
       " 'anyone',\n",
       " 'noone',\n",
       " \"'d\",\n",
       " 'anyway',\n",
       " 'thence',\n",
       " 'this',\n",
       " 'becomes',\n",
       " 'within',\n",
       " 'formerly',\n",
       " 'and',\n",
       " 'ever',\n",
       " 'moreover',\n",
       " 'call',\n",
       " 'will',\n",
       " 'therein',\n",
       " 'cannot',\n",
       " \"'re\",\n",
       " 'made',\n",
       " 'sixty',\n",
       " '‘ll',\n",
       " 'am',\n",
       " 'six',\n",
       " 'yourselves',\n",
       " 'everyone',\n",
       " 'became',\n",
       " 'around',\n",
       " \"'ll\",\n",
       " 'when',\n",
       " 'however',\n",
       " 'where',\n",
       " 'name',\n",
       " 'to',\n",
       " 'latterly',\n",
       " 'several',\n",
       " 'whatever',\n",
       " 'nevertheless',\n",
       " 'indeed',\n",
       " 'while',\n",
       " 'serious',\n",
       " 'three',\n",
       " 'latter',\n",
       " 'by',\n",
       " 'full',\n",
       " 'eight',\n",
       " 'you',\n",
       " 'be',\n",
       " 'too',\n",
       " 'almost',\n",
       " 'ca',\n",
       " 'whether',\n",
       " '’re',\n",
       " 'few',\n",
       " \"'m\",\n",
       " 'four',\n",
       " 'quite',\n",
       " 'there',\n",
       " 'everywhere',\n",
       " 'among',\n",
       " 'part',\n",
       " 'see',\n",
       " 'about',\n",
       " 'fifteen',\n",
       " 'whereafter',\n",
       " 'how',\n",
       " '‘m',\n",
       " 'of',\n",
       " 'regarding',\n",
       " 'herein',\n",
       " 'so',\n",
       " 'make',\n",
       " 'up',\n",
       " 'many',\n",
       " 'becoming',\n",
       " 'always',\n",
       " '’s',\n",
       " 'toward',\n",
       " 'side',\n",
       " 'after',\n",
       " 'something',\n",
       " 'nothing',\n",
       " 'such',\n",
       " 'my',\n",
       " \"n't\",\n",
       " 'might',\n",
       " 'been',\n",
       " 'own']"
      ]
     },
     "execution_count": 4,
     "metadata": {},
     "output_type": "execute_result"
    }
   ],
   "source": [
    "stopwords = list(STOP_WORDS)\n",
    "stopwords"
   ]
  },
  {
   "cell_type": "code",
   "execution_count": 5,
   "id": "0ba8d76a",
   "metadata": {},
   "outputs": [
    {
     "data": {
      "text/plain": [
       "<spacy.lang.en.English at 0x24215687940>"
      ]
     },
     "execution_count": 5,
     "metadata": {},
     "output_type": "execute_result"
    }
   ],
   "source": [
    "nlp = spacy.load('en_core_web_sm')\n",
    "nlp"
   ]
  },
  {
   "cell_type": "code",
   "execution_count": 6,
   "id": "4e4454e0",
   "metadata": {},
   "outputs": [
    {
     "data": {
      "text/plain": [
       "Dogs are omnivores, which means they consume both meat and veggies. Because of their wide palette and ability to consume large amounts of food in one sitting, they have a gluttonous reputation (owing to an incredibly elastic stomach). While most dogs are not afraid to consume almost any meal (or non-food!) that comes their way, others are more sensitive. Your dog's stomach might be upset for a variety of causes, ranging from indigestion to cancer. While all dogs vomit from time to time, it's time to take your dog to the vet for a check-up if they vomit or have diarrhoea on a regular or continuous basis. Chronic or recurring vomiting or diarrhoea suggests that your dog's health is failing and should be addressed. Your veterinarian will be able to examine your dog and, if necessary, conduct tests to provide an accurate diagnosis and treatment.The occurrence of flatulence or diarrhoea in some dogs, just like it happens in people if something upsets their stomach. This is referred to as a 'sensitive stomach'. We're talking about a modest digestive disturbance here, which ranges from a rumbling gut and unpleasant odours from the back end to vomiting and diarrhoea.Some dogs have sensitive stomachs from birth, while others develop them later in life. In any case, it is something that must be handled if your dog is to prosper. Nausea, vomiting, excessive gas, and diarrhoea with or without blood in the stool are symptoms of a dog’s sensitive stomach. Supplemental therapy will be used in response to the symptoms they have experienced.The symptoms should go away if you change your pet's diet to something easier for them to digest. It is also not normal if your dog has been vomiting or diarrhoea for a long time. To rule out illnesses like allergies and gastrointestinal disorders or sickness, you should take them to the veterinarian as soon as possible. You can even discuss changing to food for dogs with sensitive stomachs with them.Your dog's sensitive stomach could be hereditary, meaning it was there at birth. When your puppy is young, you may notice that they have trouble digesting food, have gas, and have irregular faeces.It's simple to figure out if your dog's food is the problem, though it may take some willpower on your part. Start by removing any unnecessary foods from his diet. Table scraps, leftovers, bones, treats, and anything else your dog might enjoy nibbling on throughout the day are all included. Check to see whether your dog is slipping into the trash, garbage bin, waste thrown on roads or any other forbidden treasures that can cause your dog to get sick. This will help you better diagnose your dog's stomach problem."
      ]
     },
     "execution_count": 6,
     "metadata": {},
     "output_type": "execute_result"
    }
   ],
   "source": [
    "doc = nlp(text)\n",
    "doc"
   ]
  },
  {
   "cell_type": "code",
   "execution_count": 7,
   "id": "9a9493df",
   "metadata": {},
   "outputs": [
    {
     "name": "stdout",
     "output_type": "stream",
     "text": [
      "['Dogs', 'are', 'omnivores', ',', 'which', 'means', 'they', 'consume', 'both', 'meat', 'and', 'veggies', '.', 'Because', 'of', 'their', 'wide', 'palette', 'and', 'ability', 'to', 'consume', 'large', 'amounts', 'of', 'food', 'in', 'one', 'sitting', ',', 'they', 'have', 'a', 'gluttonous', 'reputation', '(', 'owing', 'to', 'an', 'incredibly', 'elastic', 'stomach', ')', '.', 'While', 'most', 'dogs', 'are', 'not', 'afraid', 'to', 'consume', 'almost', 'any', 'meal', '(', 'or', 'non', '-', 'food', '!', ')', 'that', 'comes', 'their', 'way', ',', 'others', 'are', 'more', 'sensitive', '.', 'Your', 'dog', \"'s\", 'stomach', 'might', 'be', 'upset', 'for', 'a', 'variety', 'of', 'causes', ',', 'ranging', 'from', 'indigestion', 'to', 'cancer', '.', 'While', 'all', 'dogs', 'vomit', 'from', 'time', 'to', 'time', ',', 'it', \"'s\", 'time', 'to', 'take', 'your', 'dog', 'to', 'the', 'vet', 'for', 'a', 'check', '-', 'up', 'if', 'they', 'vomit', 'or', 'have', 'diarrhoea', 'on', 'a', 'regular', 'or', 'continuous', 'basis', '.', 'Chronic', 'or', 'recurring', 'vomiting', 'or', 'diarrhoea', 'suggests', 'that', 'your', 'dog', \"'s\", 'health', 'is', 'failing', 'and', 'should', 'be', 'addressed', '.', 'Your', 'veterinarian', 'will', 'be', 'able', 'to', 'examine', 'your', 'dog', 'and', ',', 'if', 'necessary', ',', 'conduct', 'tests', 'to', 'provide', 'an', 'accurate', 'diagnosis', 'and', 'treatment', '.', 'The', 'occurrence', 'of', 'flatulence', 'or', 'diarrhoea', 'in', 'some', 'dogs', ',', 'just', 'like', 'it', 'happens', 'in', 'people', 'if', 'something', 'upsets', 'their', 'stomach', '.', 'This', 'is', 'referred', 'to', 'as', 'a', \"'\", 'sensitive', 'stomach', \"'\", '.', 'We', \"'re\", 'talking', 'about', 'a', 'modest', 'digestive', 'disturbance', 'here', ',', 'which', 'ranges', 'from', 'a', 'rumbling', 'gut', 'and', 'unpleasant', 'odours', 'from', 'the', 'back', 'end', 'to', 'vomiting', 'and', 'diarrhoea', '.', 'Some', 'dogs', 'have', 'sensitive', 'stomachs', 'from', 'birth', ',', 'while', 'others', 'develop', 'them', 'later', 'in', 'life', '.', 'In', 'any', 'case', ',', 'it', 'is', 'something', 'that', 'must', 'be', 'handled', 'if', 'your', 'dog', 'is', 'to', 'prosper', '.', 'Nausea', ',', 'vomiting', ',', 'excessive', 'gas', ',', 'and', 'diarrhoea', 'with', 'or', 'without', 'blood', 'in', 'the', 'stool', 'are', 'symptoms', 'of', 'a', 'dog', '’s', 'sensitive', 'stomach', '.', 'Supplemental', 'therapy', 'will', 'be', 'used', 'in', 'response', 'to', 'the', 'symptoms', 'they', 'have', 'experienced', '.', 'The', 'symptoms', 'should', 'go', 'away', 'if', 'you', 'change', 'your', 'pet', \"'s\", 'diet', 'to', 'something', 'easier', 'for', 'them', 'to', 'digest', '.', 'It', 'is', 'also', 'not', 'normal', 'if', 'your', 'dog', 'has', 'been', 'vomiting', 'or', 'diarrhoea', 'for', 'a', 'long', 'time', '.', 'To', 'rule', 'out', 'illnesses', 'like', 'allergies', 'and', 'gastrointestinal', 'disorders', 'or', 'sickness', ',', 'you', 'should', 'take', 'them', 'to', 'the', 'veterinarian', 'as', 'soon', 'as', 'possible', '.', 'You', 'can', 'even', 'discuss', 'changing', 'to', 'food', 'for', 'dogs', 'with', 'sensitive', 'stomachs', 'with', 'them', '.', 'Your', 'dog', \"'s\", 'sensitive', 'stomach', 'could', 'be', 'hereditary', ',', 'meaning', 'it', 'was', 'there', 'at', 'birth', '.', 'When', 'your', 'puppy', 'is', 'young', ',', 'you', 'may', 'notice', 'that', 'they', 'have', 'trouble', 'digesting', 'food', ',', 'have', 'gas', ',', 'and', 'have', 'irregular', 'faeces', '.', 'It', \"'s\", 'simple', 'to', 'figure', 'out', 'if', 'your', 'dog', \"'s\", 'food', 'is', 'the', 'problem', ',', 'though', 'it', 'may', 'take', 'some', 'willpower', 'on', 'your', 'part', '.', 'Start', 'by', 'removing', 'any', 'unnecessary', 'foods', 'from', 'his', 'diet', '.', 'Table', 'scraps', ',', 'leftovers', ',', 'bones', ',', 'treats', ',', 'and', 'anything', 'else', 'your', 'dog', 'might', 'enjoy', 'nibbling', 'on', 'throughout', 'the', 'day', 'are', 'all', 'included', '.', 'Check', 'to', 'see', 'whether', 'your', 'dog', 'is', 'slipping', 'into', 'the', 'trash', ',', 'garbage', 'bin', ',', 'waste', 'thrown', 'on', 'roads', 'or', 'any', 'other', 'forbidden', 'treasures', 'that', 'can', 'cause', 'your', 'dog', 'to', 'get', 'sick', '.', 'This', 'will', 'help', 'you', 'better', 'diagnose', 'your', 'dog', \"'s\", 'stomach', 'problem', '.', '\\n']\n"
     ]
    }
   ],
   "source": [
    "tokens = [token.text for token in doc]\n",
    "print(tokens)"
   ]
  },
  {
   "cell_type": "code",
   "execution_count": 8,
   "id": "e4285f1e",
   "metadata": {},
   "outputs": [
    {
     "data": {
      "text/plain": [
       "'!\"#$%&\\'()*+,-./:;<=>?@[\\\\]^_`{|}~'"
      ]
     },
     "execution_count": 8,
     "metadata": {},
     "output_type": "execute_result"
    }
   ],
   "source": [
    "punctuation"
   ]
  },
  {
   "cell_type": "code",
   "execution_count": 9,
   "id": "bbed2399",
   "metadata": {},
   "outputs": [],
   "source": [
    "word_freq = {}\n",
    "for word in doc:\n",
    "    if word.text.lower() not in stopwords:\n",
    "        if word.text.lower() not in punctuation:\n",
    "            if word.text not in word_freq.keys():\n",
    "                word_freq[word.text] = 1\n",
    "            else:\n",
    "                word_freq[word.text]+= 1\n",
    "                       "
   ]
  },
  {
   "cell_type": "code",
   "execution_count": 10,
   "id": "dcc3467a",
   "metadata": {},
   "outputs": [
    {
     "name": "stdout",
     "output_type": "stream",
     "text": [
      "{'Dogs': 1, 'omnivores': 1, 'means': 1, 'consume': 3, 'meat': 1, 'veggies': 1, 'wide': 1, 'palette': 1, 'ability': 1, 'large': 1, 'amounts': 1, 'food': 5, 'sitting': 1, 'gluttonous': 1, 'reputation': 1, 'owing': 1, 'incredibly': 1, 'elastic': 1, 'stomach': 7, 'dogs': 5, 'afraid': 1, 'meal': 1, 'non': 1, 'comes': 1, 'way': 1, 'sensitive': 6, 'dog': 13, 'upset': 1, 'variety': 1, 'causes': 1, 'ranging': 1, 'indigestion': 1, 'cancer': 1, 'vomit': 2, 'time': 4, 'vet': 1, 'check': 1, 'diarrhoea': 6, 'regular': 1, 'continuous': 1, 'basis': 1, 'Chronic': 1, 'recurring': 1, 'vomiting': 4, 'suggests': 1, 'health': 1, 'failing': 1, 'addressed': 1, 'veterinarian': 2, 'able': 1, 'examine': 1, 'necessary': 1, 'conduct': 1, 'tests': 1, 'provide': 1, 'accurate': 1, 'diagnosis': 1, 'treatment': 1, 'occurrence': 1, 'flatulence': 1, 'like': 2, 'happens': 1, 'people': 1, 'upsets': 1, 'referred': 1, 'talking': 1, 'modest': 1, 'digestive': 1, 'disturbance': 1, 'ranges': 1, 'rumbling': 1, 'gut': 1, 'unpleasant': 1, 'odours': 1, 'end': 1, 'stomachs': 2, 'birth': 2, 'develop': 1, 'later': 1, 'life': 1, 'case': 1, 'handled': 1, 'prosper': 1, 'Nausea': 1, 'excessive': 1, 'gas': 2, 'blood': 1, 'stool': 1, 'symptoms': 3, 'Supplemental': 1, 'therapy': 1, 'response': 1, 'experienced': 1, 'away': 1, 'change': 1, 'pet': 1, 'diet': 2, 'easier': 1, 'digest': 1, 'normal': 1, 'long': 1, 'rule': 1, 'illnesses': 1, 'allergies': 1, 'gastrointestinal': 1, 'disorders': 1, 'sickness': 1, 'soon': 1, 'possible': 1, 'discuss': 1, 'changing': 1, 'hereditary': 1, 'meaning': 1, 'puppy': 1, 'young': 1, 'notice': 1, 'trouble': 1, 'digesting': 1, 'irregular': 1, 'faeces': 1, 'simple': 1, 'figure': 1, 'problem': 2, 'willpower': 1, 'Start': 1, 'removing': 1, 'unnecessary': 1, 'foods': 1, 'Table': 1, 'scraps': 1, 'leftovers': 1, 'bones': 1, 'treats': 1, 'enjoy': 1, 'nibbling': 1, 'day': 1, 'included': 1, 'Check': 1, 'slipping': 1, 'trash': 1, 'garbage': 1, 'bin': 1, 'waste': 1, 'thrown': 1, 'roads': 1, 'forbidden': 1, 'treasures': 1, 'cause': 1, 'sick': 1, 'help': 1, 'better': 1, 'diagnose': 1, '\\n': 1}\n"
     ]
    }
   ],
   "source": [
    "print(word_freq)"
   ]
  },
  {
   "cell_type": "code",
   "execution_count": 11,
   "id": "1d2a346f",
   "metadata": {},
   "outputs": [
    {
     "data": {
      "text/plain": [
       "13"
      ]
     },
     "execution_count": 11,
     "metadata": {},
     "output_type": "execute_result"
    }
   ],
   "source": [
    "max_freq = max(word_freq.values())\n",
    "max_freq"
   ]
  },
  {
   "cell_type": "code",
   "execution_count": 12,
   "id": "044bbf9f",
   "metadata": {},
   "outputs": [],
   "source": [
    "for word in word_freq.keys():\n",
    "    word_freq[word] = word_freq[word] / max_freq"
   ]
  },
  {
   "cell_type": "code",
   "execution_count": 13,
   "id": "d456af7c",
   "metadata": {},
   "outputs": [
    {
     "name": "stdout",
     "output_type": "stream",
     "text": [
      "{'Dogs': 0.07692307692307693, 'omnivores': 0.07692307692307693, 'means': 0.07692307692307693, 'consume': 0.23076923076923078, 'meat': 0.07692307692307693, 'veggies': 0.07692307692307693, 'wide': 0.07692307692307693, 'palette': 0.07692307692307693, 'ability': 0.07692307692307693, 'large': 0.07692307692307693, 'amounts': 0.07692307692307693, 'food': 0.38461538461538464, 'sitting': 0.07692307692307693, 'gluttonous': 0.07692307692307693, 'reputation': 0.07692307692307693, 'owing': 0.07692307692307693, 'incredibly': 0.07692307692307693, 'elastic': 0.07692307692307693, 'stomach': 0.5384615384615384, 'dogs': 0.38461538461538464, 'afraid': 0.07692307692307693, 'meal': 0.07692307692307693, 'non': 0.07692307692307693, 'comes': 0.07692307692307693, 'way': 0.07692307692307693, 'sensitive': 0.46153846153846156, 'dog': 1.0, 'upset': 0.07692307692307693, 'variety': 0.07692307692307693, 'causes': 0.07692307692307693, 'ranging': 0.07692307692307693, 'indigestion': 0.07692307692307693, 'cancer': 0.07692307692307693, 'vomit': 0.15384615384615385, 'time': 0.3076923076923077, 'vet': 0.07692307692307693, 'check': 0.07692307692307693, 'diarrhoea': 0.46153846153846156, 'regular': 0.07692307692307693, 'continuous': 0.07692307692307693, 'basis': 0.07692307692307693, 'Chronic': 0.07692307692307693, 'recurring': 0.07692307692307693, 'vomiting': 0.3076923076923077, 'suggests': 0.07692307692307693, 'health': 0.07692307692307693, 'failing': 0.07692307692307693, 'addressed': 0.07692307692307693, 'veterinarian': 0.15384615384615385, 'able': 0.07692307692307693, 'examine': 0.07692307692307693, 'necessary': 0.07692307692307693, 'conduct': 0.07692307692307693, 'tests': 0.07692307692307693, 'provide': 0.07692307692307693, 'accurate': 0.07692307692307693, 'diagnosis': 0.07692307692307693, 'treatment': 0.07692307692307693, 'occurrence': 0.07692307692307693, 'flatulence': 0.07692307692307693, 'like': 0.15384615384615385, 'happens': 0.07692307692307693, 'people': 0.07692307692307693, 'upsets': 0.07692307692307693, 'referred': 0.07692307692307693, 'talking': 0.07692307692307693, 'modest': 0.07692307692307693, 'digestive': 0.07692307692307693, 'disturbance': 0.07692307692307693, 'ranges': 0.07692307692307693, 'rumbling': 0.07692307692307693, 'gut': 0.07692307692307693, 'unpleasant': 0.07692307692307693, 'odours': 0.07692307692307693, 'end': 0.07692307692307693, 'stomachs': 0.15384615384615385, 'birth': 0.15384615384615385, 'develop': 0.07692307692307693, 'later': 0.07692307692307693, 'life': 0.07692307692307693, 'case': 0.07692307692307693, 'handled': 0.07692307692307693, 'prosper': 0.07692307692307693, 'Nausea': 0.07692307692307693, 'excessive': 0.07692307692307693, 'gas': 0.15384615384615385, 'blood': 0.07692307692307693, 'stool': 0.07692307692307693, 'symptoms': 0.23076923076923078, 'Supplemental': 0.07692307692307693, 'therapy': 0.07692307692307693, 'response': 0.07692307692307693, 'experienced': 0.07692307692307693, 'away': 0.07692307692307693, 'change': 0.07692307692307693, 'pet': 0.07692307692307693, 'diet': 0.15384615384615385, 'easier': 0.07692307692307693, 'digest': 0.07692307692307693, 'normal': 0.07692307692307693, 'long': 0.07692307692307693, 'rule': 0.07692307692307693, 'illnesses': 0.07692307692307693, 'allergies': 0.07692307692307693, 'gastrointestinal': 0.07692307692307693, 'disorders': 0.07692307692307693, 'sickness': 0.07692307692307693, 'soon': 0.07692307692307693, 'possible': 0.07692307692307693, 'discuss': 0.07692307692307693, 'changing': 0.07692307692307693, 'hereditary': 0.07692307692307693, 'meaning': 0.07692307692307693, 'puppy': 0.07692307692307693, 'young': 0.07692307692307693, 'notice': 0.07692307692307693, 'trouble': 0.07692307692307693, 'digesting': 0.07692307692307693, 'irregular': 0.07692307692307693, 'faeces': 0.07692307692307693, 'simple': 0.07692307692307693, 'figure': 0.07692307692307693, 'problem': 0.15384615384615385, 'willpower': 0.07692307692307693, 'Start': 0.07692307692307693, 'removing': 0.07692307692307693, 'unnecessary': 0.07692307692307693, 'foods': 0.07692307692307693, 'Table': 0.07692307692307693, 'scraps': 0.07692307692307693, 'leftovers': 0.07692307692307693, 'bones': 0.07692307692307693, 'treats': 0.07692307692307693, 'enjoy': 0.07692307692307693, 'nibbling': 0.07692307692307693, 'day': 0.07692307692307693, 'included': 0.07692307692307693, 'Check': 0.07692307692307693, 'slipping': 0.07692307692307693, 'trash': 0.07692307692307693, 'garbage': 0.07692307692307693, 'bin': 0.07692307692307693, 'waste': 0.07692307692307693, 'thrown': 0.07692307692307693, 'roads': 0.07692307692307693, 'forbidden': 0.07692307692307693, 'treasures': 0.07692307692307693, 'cause': 0.07692307692307693, 'sick': 0.07692307692307693, 'help': 0.07692307692307693, 'better': 0.07692307692307693, 'diagnose': 0.07692307692307693, '\\n': 0.07692307692307693}\n"
     ]
    }
   ],
   "source": [
    "print(word_freq)"
   ]
  },
  {
   "cell_type": "code",
   "execution_count": 14,
   "id": "d8a46e69",
   "metadata": {},
   "outputs": [
    {
     "name": "stdout",
     "output_type": "stream",
     "text": [
      "[Dogs are omnivores, which means they consume both meat and veggies., Because of their wide palette and ability to consume large amounts of food in one sitting, they have a gluttonous reputation (owing to an incredibly elastic stomach)., While most dogs are not afraid to consume almost any meal (or non-food!) that comes their way, others are more sensitive., Your dog's stomach might be upset for a variety of causes, ranging from indigestion to cancer., While all dogs vomit from time to time, it's time to take your dog to the vet for a check-up if they vomit or have diarrhoea on a regular or continuous basis., Chronic or recurring vomiting or diarrhoea suggests that your dog's health is failing and should be addressed., Your veterinarian will be able to examine your dog and, if necessary, conduct tests to provide an accurate diagnosis and treatment., The occurrence of flatulence or diarrhoea in some dogs, just like it happens in people if something upsets their stomach., This is referred to as a 'sensitive stomach'., We're talking about a modest digestive disturbance here, which ranges from a rumbling gut and unpleasant odours from the back end to vomiting and diarrhoea., Some dogs have sensitive stomachs from birth, while others develop them later in life., In any case, it is something that must be handled if your dog is to prosper., Nausea, vomiting, excessive gas, and diarrhoea with or without blood in the stool are symptoms of a dog’s sensitive stomach., Supplemental therapy will be used in response to the symptoms they have experienced., The symptoms should go away if you change your pet's diet to something easier for them to digest., It is also not normal if your dog has been vomiting or diarrhoea for a long time., To rule out illnesses like allergies and gastrointestinal disorders or sickness, you should take them to the veterinarian as soon as possible., You can even discuss changing to food for dogs with sensitive stomachs with them., Your dog's sensitive stomach could be hereditary, meaning it was there at birth., When your puppy is young, you may notice that they have trouble digesting food, have gas, and have irregular faeces., It's simple to figure out if your dog's food is the problem, though it may take some willpower on your part., Start by removing any unnecessary foods from his diet., Table scraps, leftovers, bones, treats, and anything else your dog might enjoy nibbling on throughout the day are all included., Check to see whether your dog is slipping into the trash, garbage bin, waste thrown on roads or any other forbidden treasures that can cause your dog to get sick., This will help you better diagnose your dog's stomach problem.\n",
      "]\n"
     ]
    }
   ],
   "source": [
    "sentence_tokens = [sent for sent in doc.sents]\n",
    "print(sentence_tokens)"
   ]
  },
  {
   "cell_type": "code",
   "execution_count": 15,
   "id": "b2bd5d74",
   "metadata": {},
   "outputs": [],
   "source": [
    "sentence_scores = {}\n",
    "for sent in sentence_tokens:\n",
    "    for word in sent:\n",
    "        if word.text.lower() in word_freq.keys():\n",
    "            if sent not in sentence_scores.keys():\n",
    "                sentence_scores[sent] = word_freq[word.text.lower()]\n",
    "            else:\n",
    "                sentence_scores[sent]+= word_freq[word.text.lower()]"
   ]
  },
  {
   "cell_type": "code",
   "execution_count": 16,
   "id": "f8162191",
   "metadata": {},
   "outputs": [
    {
     "data": {
      "text/plain": [
       "{Dogs are omnivores, which means they consume both meat and veggies.: 0.9230769230769231,\n",
       " Because of their wide palette and ability to consume large amounts of food in one sitting, they have a gluttonous reputation (owing to an incredibly elastic stomach).: 1.9999999999999996,\n",
       " While most dogs are not afraid to consume almost any meal (or non-food!) that comes their way, others are more sensitive.: 1.8461538461538458,\n",
       " Your dog's stomach might be upset for a variety of causes, ranging from indigestion to cancer.: 1.9999999999999996,\n",
       " While all dogs vomit from time to time, it's time to take your dog to the vet for a check-up if they vomit or have diarrhoea on a regular or continuous basis.: 3.4615384615384626,\n",
       " Chronic or recurring vomiting or diarrhoea suggests that your dog's health is failing and should be addressed.: 2.153846153846154,\n",
       " Your veterinarian will be able to examine your dog and, if necessary, conduct tests to provide an accurate diagnosis and treatment.: 1.8461538461538458,\n",
       " The occurrence of flatulence or diarrhoea in some dogs, just like it happens in people if something upsets their stomach.: 1.923076923076923,\n",
       " This is referred to as a 'sensitive stomach'.: 1.076923076923077,\n",
       " We're talking about a modest digestive disturbance here, which ranges from a rumbling gut and unpleasant odours from the back end to vomiting and diarrhoea.: 1.5384615384615383,\n",
       " Some dogs have sensitive stomachs from birth, while others develop them later in life.: 1.3846153846153844,\n",
       " In any case, it is something that must be handled if your dog is to prosper.: 1.2307692307692306,\n",
       " Nausea, vomiting, excessive gas, and diarrhoea with or without blood in the stool are symptoms of a dog’s sensitive stomach.: 3.3846153846153846,\n",
       " Supplemental therapy will be used in response to the symptoms they have experienced.: 0.46153846153846156,\n",
       " The symptoms should go away if you change your pet's diet to something easier for them to digest.: 0.7692307692307692,\n",
       " It is also not normal if your dog has been vomiting or diarrhoea for a long time.: 2.230769230769231,\n",
       " To rule out illnesses like allergies and gastrointestinal disorders or sickness, you should take them to the veterinarian as soon as possible.: 0.9230769230769231,\n",
       " You can even discuss changing to food for dogs with sensitive stomachs with them.: 1.5384615384615383,\n",
       " Your dog's sensitive stomach could be hereditary, meaning it was there at birth.: 2.307692307692308,\n",
       " When your puppy is young, you may notice that they have trouble digesting food, have gas, and have irregular faeces.: 1.0769230769230769,\n",
       " It's simple to figure out if your dog's food is the problem, though it may take some willpower on your part.: 1.769230769230769,\n",
       " Start by removing any unnecessary foods from his diet.: 0.38461538461538464,\n",
       " Table scraps, leftovers, bones, treats, and anything else your dog might enjoy nibbling on throughout the day are all included.: 1.6153846153846152,\n",
       " Check to see whether your dog is slipping into the trash, garbage bin, waste thrown on roads or any other forbidden treasures that can cause your dog to get sick.: 2.923076923076923,\n",
       " This will help you better diagnose your dog's stomach problem.: 1.9999999999999998}"
      ]
     },
     "execution_count": 16,
     "metadata": {},
     "output_type": "execute_result"
    }
   ],
   "source": [
    "sentence_scores"
   ]
  },
  {
   "cell_type": "code",
   "execution_count": 17,
   "id": "3fa67510",
   "metadata": {},
   "outputs": [],
   "source": [
    "from heapq import nlargest"
   ]
  },
  {
   "cell_type": "code",
   "execution_count": 18,
   "id": "d0236902",
   "metadata": {},
   "outputs": [
    {
     "data": {
      "text/plain": [
       "7"
      ]
     },
     "execution_count": 18,
     "metadata": {},
     "output_type": "execute_result"
    }
   ],
   "source": [
    "# get 30% of largest sentences\n",
    "select_len = int(len(sentence_tokens) * 0.3)\n",
    "select_len"
   ]
  },
  {
   "cell_type": "code",
   "execution_count": 19,
   "id": "141780da",
   "metadata": {},
   "outputs": [],
   "source": [
    "summary = nlargest(select_len, sentence_scores, key=sentence_scores.get)"
   ]
  },
  {
   "cell_type": "code",
   "execution_count": 20,
   "id": "5218c17c",
   "metadata": {},
   "outputs": [
    {
     "data": {
      "text/plain": [
       "[While all dogs vomit from time to time, it's time to take your dog to the vet for a check-up if they vomit or have diarrhoea on a regular or continuous basis.,\n",
       " Nausea, vomiting, excessive gas, and diarrhoea with or without blood in the stool are symptoms of a dog’s sensitive stomach.,\n",
       " Check to see whether your dog is slipping into the trash, garbage bin, waste thrown on roads or any other forbidden treasures that can cause your dog to get sick.,\n",
       " Your dog's sensitive stomach could be hereditary, meaning it was there at birth.,\n",
       " It is also not normal if your dog has been vomiting or diarrhoea for a long time.,\n",
       " Chronic or recurring vomiting or diarrhoea suggests that your dog's health is failing and should be addressed.,\n",
       " This will help you better diagnose your dog's stomach problem.]"
      ]
     },
     "execution_count": 20,
     "metadata": {},
     "output_type": "execute_result"
    }
   ],
   "source": [
    "summary"
   ]
  },
  {
   "cell_type": "code",
   "execution_count": 21,
   "id": "5e32fed7",
   "metadata": {},
   "outputs": [],
   "source": [
    "final_summary = [word.text for word in summary]"
   ]
  },
  {
   "cell_type": "code",
   "execution_count": 22,
   "id": "04f0c070",
   "metadata": {},
   "outputs": [],
   "source": [
    "summary = ' '.join(final_summary)"
   ]
  },
  {
   "cell_type": "code",
   "execution_count": 25,
   "id": "e3e86cef",
   "metadata": {},
   "outputs": [
    {
     "name": "stdout",
     "output_type": "stream",
     "text": [
      "While all dogs vomit from time to time, it's time to take your dog to the vet for a check-up if they vomit or have diarrhoea on a regular or continuous basis. Nausea, vomiting, excessive gas, and diarrhoea with or without blood in the stool are symptoms of a dog’s sensitive stomach. Check to see whether your dog is slipping into the trash, garbage bin, waste thrown on roads or any other forbidden treasures that can cause your dog to get sick. Your dog's sensitive stomach could be hereditary, meaning it was there at birth. It is also not normal if your dog has been vomiting or diarrhoea for a long time. Chronic or recurring vomiting or diarrhoea suggests that your dog's health is failing and should be addressed. This will help you better diagnose your dog's stomach problem.\n",
      "\n"
     ]
    }
   ],
   "source": [
    "print(summary)\n",
    "with open('readme.txt', 'w') as f:\n",
    "    f.writelines(summary)"
   ]
  },
  {
   "cell_type": "code",
   "execution_count": 24,
   "id": "345a4de3",
   "metadata": {},
   "outputs": [
    {
     "name": "stdout",
     "output_type": "stream",
     "text": [
      "2669 784\n"
     ]
    }
   ],
   "source": [
    "print(len(text), len(summary))"
   ]
  }
 ],
 "metadata": {
  "kernelspec": {
   "display_name": "Python 3 (ipykernel)",
   "language": "python",
   "name": "python3"
  },
  "language_info": {
   "codemirror_mode": {
    "name": "ipython",
    "version": 3
   },
   "file_extension": ".py",
   "mimetype": "text/x-python",
   "name": "python",
   "nbconvert_exporter": "python",
   "pygments_lexer": "ipython3",
   "version": "3.9.7"
  }
 },
 "nbformat": 4,
 "nbformat_minor": 5
}
